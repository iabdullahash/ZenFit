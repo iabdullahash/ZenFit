{
 "cells": [
  {
   "cell_type": "code",
   "execution_count": 11,
   "metadata": {},
   "outputs": [],
   "source": [
    "import json\n",
    "from flask import jsonify\n",
    "def load_data():\n",
    "    with open('database.json', 'r') as file:\n",
    "        data = json.load(file)\n",
    "    return data\n",
    "\n",
    "def save_data(data):\n",
    "    with open('database.json', 'w') as file:\n",
    "        json.dump(data, file, indent=4)"
   ]
  },
  {
   "cell_type": "code",
   "execution_count": 23,
   "metadata": {},
   "outputs": [
    {
     "name": "stdout",
     "output_type": "stream",
     "text": [
      "yayy\n"
     ]
    }
   ],
   "source": [
    "data = load_data()\n",
    "users = data.get('users', [])\n",
    "for user in users:\n",
    "        if user['email'] == 'user2@example.com':\n",
    "            print('yayy')"
   ]
  }
 ],
 "metadata": {
  "kernelspec": {
   "display_name": "Python 3",
   "language": "python",
   "name": "python3"
  },
  "language_info": {
   "codemirror_mode": {
    "name": "ipython",
    "version": 3
   },
   "file_extension": ".py",
   "mimetype": "text/x-python",
   "name": "python",
   "nbconvert_exporter": "python",
   "pygments_lexer": "ipython3",
   "version": "3.10.5"
  },
  "orig_nbformat": 4
 },
 "nbformat": 4,
 "nbformat_minor": 2
}
