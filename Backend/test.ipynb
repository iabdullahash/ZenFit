{
 "cells": [
  {
   "cell_type": "code",
   "execution_count": 25,
   "metadata": {},
   "outputs": [],
   "source": [
    "import json\n",
    "from flask import jsonify\n",
    "def load_data():\n",
    "    with open('database.json', 'r') as file:\n",
    "        data = json.load(file)\n",
    "    return data\n",
    "\n",
    "def save_data(data):\n",
    "    with open('database.json', 'w') as file:\n",
    "        json.dump(data, file, indent=4)"
   ]
  },
  {
   "cell_type": "code",
   "execution_count": 34,
   "metadata": {},
   "outputs": [
    {
     "name": "stdout",
     "output_type": "stream",
     "text": [
      "{'breakfast': [], 'lunch': [], 'dinner': [], 'snack': []}\n"
     ]
    }
   ],
   "source": [
    "data = load_data()\n",
    "users = data.get('users', [])\n",
    "mealitem = {\n",
    "      \"name\": \"Example Meal\",\n",
    "      \"quantity\": 1,\n",
    "      \"calories\": 350,\n",
    "      \"proteins\": 20,\n",
    "      \"carbs\": 30,\n",
    "      \"fats\": 10,\n",
    "    }\n",
    "mealType = 'breakfast'\n",
    "# print(users)\n",
    "for user in users:\n",
    "        if user['email'] == 'abcd@gmail.com':\n",
    "            print(user['meals'])\n"
   ]
  },
  {
   "cell_type": "code",
   "execution_count": 32,
   "metadata": {},
   "outputs": [],
   "source": [
    "data = load_data()\n",
    "users = data.get('users', [])\n",
    "mealitem = {\n",
    "      \"name\": \"Example Meal\",\n",
    "      \"quantity\": 1,\n",
    "      \"calories\": 350,\n",
    "      \"proteins\": 20,\n",
    "      \"carbs\": 30,\n",
    "      \"fats\": 10,\n",
    "    }\n",
    "index = 0\n",
    "mealType = 'breakfast'\n",
    "# print(users)\n",
    "for user in users:\n",
    "        if user['email'] == 'abcd@gmail.com':\n",
    "            del user['meals'][mealType][index]\n",
    "            break\n",
    "\n",
    "data['users'] = users\n",
    "save_data(data)"
   ]
  }
 ],
 "metadata": {
  "kernelspec": {
   "display_name": "Python 3",
   "language": "python",
   "name": "python3"
  },
  "language_info": {
   "codemirror_mode": {
    "name": "ipython",
    "version": 3
   },
   "file_extension": ".py",
   "mimetype": "text/x-python",
   "name": "python",
   "nbconvert_exporter": "python",
   "pygments_lexer": "ipython3",
   "version": "3.10.5"
  },
  "orig_nbformat": 4
 },
 "nbformat": 4,
 "nbformat_minor": 2
}
