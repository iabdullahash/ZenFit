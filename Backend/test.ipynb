{
 "cells": [
  {
   "cell_type": "code",
   "execution_count": 1,
   "metadata": {},
   "outputs": [],
   "source": [
    "import json\n",
    "def load_data():\n",
    "    with open('database.json', 'r') as file:\n",
    "        data = json.load(file)\n",
    "    return data\n",
    "\n",
    "def save_data(data):\n",
    "    with open('database.json', 'w') as file:\n",
    "        json.dump(data, file, indent=4)"
   ]
  },
  {
   "cell_type": "code",
   "execution_count": 4,
   "metadata": {},
   "outputs": [
    {
     "name": "stdout",
     "output_type": "stream",
     "text": [
      "[{'id': 1, 'title': 'Strength Training for Beginners', 'description': 'A comprehensive strength training program for beginners.', 'image': 'https://example.com/images/strength_training_beginners.jpg', 'details': 'This workout plan is designed for individuals who are new to strength training and want to build a foundation of strength. The plan consists of three strength training sessions per week, with each session focusing on different muscle groups.', 'workouts': [{'day': 'Monday', 'exercises': [{'name': 'Squat', 'sets': 3, 'reps': 8}, {'name': 'Bench Press', 'sets': 3, 'reps': 8}, {'name': 'Bent-Over Row', 'sets': 3, 'reps': 8}, {'name': 'Lunges', 'sets': 3, 'reps': 10}, {'name': 'Plank', 'sets': 3, 'duration': '30 seconds'}]}, {'day': 'Wednesday', 'exercises': [{'name': 'Deadlift', 'sets': 3, 'reps': 6}, {'name': 'Overhead Press', 'sets': 3, 'reps': 8}, {'name': 'Pull-Ups', 'sets': 3, 'reps': 8}, {'name': 'Step-Ups', 'sets': 3, 'reps': 10}, {'name': 'Russian Twist', 'sets': 3, 'reps': 12}]}, {'day': 'Friday', 'exercises': [{'name': 'Leg Press', 'sets': 3, 'reps': 10}, {'name': 'Incline Dumbbell Press', 'sets': 3, 'reps': 8}, {'name': 'Lat Pulldown', 'sets': 3, 'reps': 8}, {'name': 'Hamstring Curl', 'sets': 3, 'reps': 10}, {'name': 'Hanging Leg Raise', 'sets': 3, 'reps': 12}]}]}, {'id': 2, 'title': 'Fat Loss and Toning', 'description': 'A workout plan to help you burn fat and tone your body.', 'image': 'https://example.com/images/fat_loss_toning.jpg', 'details': 'This workout plan is designed to help you lose body fat and sculpt a lean physique. The plan consists of four workout sessions per week, alternating between cardio and strength training.', 'workouts': [{'day': 'Monday', 'type': 'Cardio', 'exercises': [{'name': 'Treadmill Jogging', 'duration': '20 minutes'}, {'name': 'Jumping Jacks', 'duration': '3 sets of 30 seconds'}, {'name': 'Mountain Climbers', 'duration': '3 sets of 10 reps'}, {'name': 'Cycling', 'duration': '15 minutes'}, {'name': 'Burpees', 'duration': '3 sets of 10 reps'}]}, {'day': 'Tuesday', 'type': 'Strength Training', 'exercises': [{'name': 'Dumbbell Squat', 'sets': 3, 'reps': 10}, {'name': 'Push-Ups', 'sets': 3, 'reps': 10}, {'name': 'Dumbbell Shoulder Press', 'sets': 3, 'reps': 10}, {'name': 'Dumbbell Bent-Over Row', 'sets': 3, 'reps': 10}, {'name': 'Plank', 'sets': 3, 'duration': '30 seconds'}]}, {'day': 'Thursday', 'type': 'Cardio', 'exercises': [{'name': 'Elliptical Training', 'duration': '20 minutes'}, {'name': 'Jump Rope', 'duration': '3 sets of 1 minute'}, {'name': 'High Knees', 'duration': '3 sets of 10 reps'}, {'name': 'Stair Climbing', 'duration': '15 minutes'}, {'name': 'Mountain Climbers', 'duration': '3 sets of 10 reps'}]}, {'day': 'Friday', 'type': 'Strength Training', 'exercises': [{'name': 'Barbell Squat', 'sets': 3, 'reps': 8}, {'name': 'Barbell Bench Press', 'sets': 3, 'reps': 8}, {'name': 'Barbell Deadlift', 'sets': 3, 'reps': 8}, {'name': 'Barbell Bent-Over Row', 'sets': 3, 'reps': 8}, {'name': 'Russian Twist', 'sets': 3, 'reps': 12}]}]}]\n"
     ]
    }
   ],
   "source": [
    "data = load_data()\n",
    "print(data['workoutPlans'])"
   ]
  }
 ],
 "metadata": {
  "kernelspec": {
   "display_name": "Python 3",
   "language": "python",
   "name": "python3"
  },
  "language_info": {
   "codemirror_mode": {
    "name": "ipython",
    "version": 3
   },
   "file_extension": ".py",
   "mimetype": "text/x-python",
   "name": "python",
   "nbconvert_exporter": "python",
   "pygments_lexer": "ipython3",
   "version": "3.10.5"
  },
  "orig_nbformat": 4
 },
 "nbformat": 4,
 "nbformat_minor": 2
}
